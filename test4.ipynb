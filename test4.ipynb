{
 "cells": [
  {
   "cell_type": "code",
   "execution_count": 1,
   "metadata": {},
   "outputs": [],
   "source": [
    "import pickle\n",
    "import numpy as np"
   ]
  },
  {
   "cell_type": "code",
   "execution_count": 31,
   "metadata": {},
   "outputs": [],
   "source": [
    "outfile = \"output.pkl\"\n",
    "with open(outfile, \"rb\") as f:\n",
    "    loaded_dict = pickle.load(f)"
   ]
  },
  {
   "cell_type": "code",
   "execution_count": 36,
   "metadata": {},
   "outputs": [
    {
     "data": {
      "text/plain": [
       "'A man and two children were found dead this morning in a home at Fort Hood , a US Army base in Texas .'"
      ]
     },
     "execution_count": 36,
     "metadata": {},
     "output_type": "execute_result"
    }
   ],
   "source": [
    "n = 37\n",
    "toks = loaded_dict[n][\"sent\"]\n",
    "# for p in loaded_dict[n][\"pred\"]:\n",
    "#     print(toks[p])\n",
    "\n",
    "# args = loaded_dict[n][\"args\"]\n",
    "# for a in args:\n",
    "#     print(a)\n",
    "#     for i in args[a]:\n",
    "#         print(toks[i])\n",
    "\n",
    "res = \" \".join(toks)\n",
    "res"
   ]
  },
  {
   "cell_type": "code",
   "execution_count": null,
   "metadata": {},
   "outputs": [],
   "source": [
    "pred = loaded_dict[0][\"pred\"]\n",
    "args = loaded_dict[0][\"args\"]\n",
    "print(pred, args)\n",
    "for tok in loaded_dict[0][\"sent\"]:\n",
    "    print(tok)"
   ]
  },
  {
   "cell_type": "code",
   "execution_count": 64,
   "metadata": {},
   "outputs": [],
   "source": [
    "fn = \"lsoie_dev_sample.txt\"\n",
    "with open(fn, \"w\") as f:\n",
    "    iter = 0\n",
    "    last_entry = \"\"\n",
    "    for i in range(len(loaded_dict)):\n",
    "        entry = \" \".join(loaded_dict[i][\"sent\"])\n",
    "        if entry == last_entry:\n",
    "            continue\n",
    "        f.write(f\"{entry}\\n\")\n",
    "        iter += 1\n",
    "        last_entry = entry\n",
    "        if iter == 50:\n",
    "            break"
   ]
  },
  {
   "cell_type": "code",
   "execution_count": 14,
   "metadata": {},
   "outputs": [],
   "source": [
    "from graphbrain.hyperedge import Atom, hedge\n",
    "from graphbrain.learner.pattern_ops import *\n",
    "from graphbrain.parsers import *\n",
    "from graphbrain.patterns import PatternCounter\n",
    "from graphbrain.utils.conjunctions import conjunctions_decomposition"
   ]
  },
  {
   "cell_type": "code",
   "execution_count": 27,
   "metadata": {},
   "outputs": [
    {
     "name": "stdout",
     "output_type": "stream",
     "text": [
      "[((+/B.ma */C */C), 3), ((*/B.ma */C */C), 1), ((*/J */R.so */R.sc), 1), ((*/J (*/P.so */C */C) */R.sc), 1), ((*/J */R.so (*/P.sc */C */C)), 1)]\n"
     ]
    }
   ],
   "source": [
    "text = \"\"\"((var posted/Pd.xsxxx.<f-----/en REL) (var (on/Tt/en friday/Cp.s/en) ARG1) (var clark/Cp.s/en ARG0) (var (to/T/en facebook/Cp.s/en) ARG2)\n",
    "(var ((to/Mi/en explain/Pd.o.-i-----/en) ('s/Bp.am/en clark/Cp.s/en decision/Cc.s/en)) ARG3) (saying/Pd.r.|pg----/en (but/J/en ((usually/M/en \n",
    "(do/Mv.|f-----/en (n’t/Mn/en post/P.so.-i-----/en))) (var clark/Cp.s/en ARG0) (political/Ma/en items/Cc.p/en)) (is/Pd.sc.|f--3s-/en \n",
    "today/Cc.s/en different/Ca/en))))\"\"\"\n",
    "\n",
    "text2 = \"\"\"((can/Mm/en (not/Mn/en require/Pd.xsoox.-i-----/en)) (according/Tv.|pg----/en (to/Mt/en (+/B.am/. fox/Cp.s/en news/Cp.s/en))) (the/Md/en \n",
    "(+/B.am/. us/Cp.s/en president/Cp.s/en)) (var (+/B.am/. us/Cp.s/en flag/Cc.s/en) ARG0) (var lowering/Cc.s/en REL) (at/T/en (the/Md/en \n",
    "(local/Ma/en level/Cc.s/en))))\"\"\"\n",
    "\n",
    "pc = PatternCounter(\n",
    "    expansions={\n",
    "        \"(* * *)\",\n",
    "        \"(* * * *)\",\n",
    "    },\n",
    "    match_roots={\"+/B\"},\n",
    "    count_subedges=True,\n",
    ")\n",
    "\n",
    "pc.count(hedge(text))\n",
    "pc.count(hedge(text2))\n",
    "\n",
    "print(pc.patterns.most_common(5))"
   ]
  },
  {
   "cell_type": "code",
   "execution_count": null,
   "metadata": {},
   "outputs": [],
   "source": [
    "words_to_i_org = defaultdict(set)\n",
    "for i, word in enumerate(all_toks_org):\n",
    "    words_to_i_org[word.lower()].add(i)\n",
    "print(words_to_i_org)\n",
    "\n",
    "words_to_i = defaultdict(set)\n",
    "for i, word in enumerate(all_toks):\n",
    "    words_to_i[word.lower()].add(i)\n",
    "print(words_to_i)\n",
    "\n",
    "for k1, k2 in zip(words_to_i_org.keys(), words_to_i.keys()):\n",
    "    print(k1, k2)\n",
    "    old = words_to_i_org[k1]\n",
    "    new = words_to_i[k2]\n",
    "    if old == new or old.issubset(new):\n",
    "        continue\n",
    "\n",
    "if len(all_toks_org) != len(all_toks):\n",
    "    print(\"positions might have changed\")\n",
    "    newpred = set()\n",
    "    newargs = defaultdict(list)\n",
    "    for key in words_to_i_org:\n",
    "        print(key)\n",
    "        new_pos = words_to_i[key]\n",
    "        if key in predwords:\n",
    "            newpred.update(new_pos)\n",
    "        elif key in argwords.keys():\n",
    "            label = argwords[key]\n",
    "            print(label)\n",
    "            print(new_pos)\n",
    "            newargs[label].append(new_pos)\n",
    "        else:\n",
    "            continue\n",
    "\n",
    "    newpred = tuple(newpred)\n",
    "    print(newpred)\n",
    "    args_sort = dict(sorted(newargs.items()))\n",
    "    newargs = []\n",
    "    for label in args_sort:\n",
    "        newargs.append(tuple(argsdict[label]))\n",
    "    print(newargs)\n",
    "\n",
    "    print(pred, args)\n",
    "    # newargs =\n",
    "    # for key in words_to_i_org:\n",
    "    #     print(key)\n",
    "    #     old = words_to_i_org[key]\n",
    "    #     if key in words_to_i:\n",
    "    #         new = words_to_i[key]\n",
    "    #         # check for equality\n",
    "    #         if old == new or old.issubset(new):\n",
    "    #             continue\n",
    "    #         else:\n",
    "    #             print(old, new)\n",
    "    #             if key in predwords:\n",
    "\n",
    "    #                 print(\"problem\")\n",
    "    #             elif key in argwords:\n",
    "    #                 print(\"problem\")\n",
    "    #             else:\n",
    "    #                 continue"
   ]
  }
 ],
 "metadata": {
  "kernelspec": {
   "display_name": "Python 3",
   "language": "python",
   "name": "python3"
  },
  "language_info": {
   "codemirror_mode": {
    "name": "ipython",
    "version": 3
   },
   "file_extension": ".py",
   "mimetype": "text/x-python",
   "name": "python",
   "nbconvert_exporter": "python",
   "pygments_lexer": "ipython3",
   "version": "3.11.8"
  }
 },
 "nbformat": 4,
 "nbformat_minor": 2
}
